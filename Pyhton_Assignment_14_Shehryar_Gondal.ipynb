{
 "cells": [
  {
   "cell_type": "markdown",
   "id": "820bcce1",
   "metadata": {},
   "source": [
    "## Assignments  Question"
   ]
  },
  {
   "cell_type": "markdown",
   "id": "c6b5f121",
   "metadata": {},
   "source": [
    "__Q1. What is multithreading in python? Why is it used? Name the module used to handle thread in python ?__\n",
    "\n",
    "__Ans)__ Multithreading in Python refers to the ability of a program to execute multiple threads (or paths of execution) concurrently, in a single process. Each thread can perform a separate task while running simultaneously with other threads, sharing the same memory space and system resources. <br>\n",
    "\n",
    "Multithreading is used in Python to improve the performance of applications that need to perform multiple tasks simultaneously, without blocking the main thread. It can help to reduce the overall execution time of the program and make it more responsive, especially for long-running or CPU-intensive tasks. <br>\n",
    "\n",
    "The threading module is used to handle threads in Python."
   ]
  },
  {
   "cell_type": "markdown",
   "id": "d95962ad",
   "metadata": {},
   "source": [
    "__Q2. Why threading module used? Write the use of the following functions:__ <br>\n",
    "1. activeCount()\n",
    "2. currentThread()\n",
    "3. enumerate()\n",
    "\n",
    "__Ans)__ The threading module is used in Python to create and manage threads. It provides a high-level interface for creating and controlling threads, as well as support for synchronization, locks, and other threading primitives.\n",
    "\n",
    "The following are some common functions in the threading module and their uses: <br>\n",
    "\n",
    "* __activeCount()__: This function returns the number of active threads in the current thread's context. It can be useful for debugging or monitoring thread usage in a program.\n",
    "\n",
    "* __currentThread()__: This function returns a reference to the current thread object. It can be used to get information about the current thread, such as its name or identifier.\n",
    "\n",
    "* __enumerate()__: This function returns a list of all active Thread objects in the current thread's context. It can be useful for monitoring or controlling thread execution, such as joining all running threads or terminating them."
   ]
  },
  {
   "cell_type": "markdown",
   "id": "dddc1259",
   "metadata": {},
   "source": [
    "__Q3. Explain the following functions as short as you:__\n",
    "1. run()\n",
    "2. start()\n",
    "3. join()\n",
    "4. İsAlive() \n",
    "\n",
    "__Ans)__\n",
    "* __run()__: This method is called when a thread is started by calling the start() method. It contains the code that the thread will execute, and can be overridden in a subclass to define a custom thread behavior.\n",
    "\n",
    "* __start()__: This method is used to start a new thread and execute its run() method. It will create a new operating system thread and start the execution of the run() method in that thread.\n",
    "\n",
    "* __join()__: This method is used to wait for a thread to complete its execution. When called on a thread, the calling thread will block until the target thread has completed its execution. This can be useful for synchronizing thread execution or ensuring that a thread has completed its work before the program continues.\n",
    "\n",
    "* __isAlive()__: This method is used to check if a thread is currently executing. It returns a boolean value indicating whether the thread is still running or has completed its execution. This can be useful for monitoring the status of a thread and taking action based on its current state."
   ]
  },
  {
   "cell_type": "markdown",
   "id": "3378f740",
   "metadata": {},
   "source": [
    "__Q4. Write a python program to create two threads. Thread one must print the list of squares two must print the list of cubes.__"
   ]
  },
  {
   "cell_type": "code",
   "execution_count": 8,
   "id": "75ed805b",
   "metadata": {},
   "outputs": [
    {
     "name": "stdout",
     "output_type": "stream",
     "text": [
      "List of squares: [1, 4, 9, 16, 25, 36, 49, 64, 81, 100]\n",
      "List of cubes: [1, 8, 27, 64, 125, 216, 343, 512, 729, 1000]\n",
      "Desire requirement is finished. Program Finished\n"
     ]
    }
   ],
   "source": [
    "import threading\n",
    "import time\n",
    "\n",
    "\n",
    "def print_squares():\n",
    "    squares = [x*x for x in range(1, 11)]\n",
    "    \n",
    "    print(\"List of squares:\", squares)\n",
    "    time.sleep(2)\n",
    "\n",
    "\n",
    "def print_cubes():\n",
    "    cubes = [x*x*x for x in range(1, 11)]\n",
    "    \n",
    "    print(\"List of cubes:\", cubes)\n",
    "\n",
    "t1 = threading.Thread(target=print_squares)\n",
    "t2 = threading.Thread(target=print_cubes)\n",
    "\n",
    "# Start both threads\n",
    "t1.start()\n",
    "t2.start()\n",
    "\n",
    "# Wait for both threads to complete\n",
    "t1.join()\n",
    "t2.join()\n",
    "\n",
    "# Print a message indicating that the program has finished\n",
    "print(\"Desire requirement is finished. Program Finished\")"
   ]
  },
  {
   "cell_type": "markdown",
   "id": "18c18837",
   "metadata": {},
   "source": [
    "__Q5. State advantages and disadvantages of multithreading ?__\n",
    "\n",
    "__Ans)__\n",
    "__Advantages__:<br>\n",
    "\n",
    "* __Improved performance__: By allowing multiple threads to execute concurrently, multithreading can lead to improved performance and faster execution times for programs that require multiple tasks to be performed simultaneously.\n",
    "\n",
    "* __Better resource utilization__: Multithreading can help improve resource utilization by allowing multiple threads to share the same resources, such as CPU time and memory\n",
    "\n",
    "__Disadvantages__: <br>\n",
    "\n",
    "* __Increased complexity__: Multithreading can increase the complexity of a program, making it harder to debug and maintain. Multithreading can also introduce race conditions and other synchronization issues that can be difficult to resolve.\n",
    "\n",
    "* __Increased resource usage__: Multithreading can increase resource usage, especially in programs that create a large number of threads. This can lead to increased memory usage and CPU usage."
   ]
  },
  {
   "cell_type": "markdown",
   "id": "3733b505",
   "metadata": {},
   "source": [
    "__Q6. Explain deadlocks and race conditions ?__\n",
    "\n",
    "__Ans)__ A deadlock occurs when two or more threads are waiting for each other to release resources that they need to proceed.Deadlocks can cause a program to hang or become unresponsive.A race condition occurs when the output or behavior of a program depends on the relative timing of two or more threads.Race conditions can lead to unpredictable behavior and can be difficult to reproduce and debug."
   ]
  },
  {
   "cell_type": "markdown",
   "id": "dbc9a616",
   "metadata": {},
   "source": [
    "-------------------------------------------------------------------------------------------- __End__----------------------------------------------------------------------------------------------------------------"
   ]
  }
 ],
 "metadata": {
  "kernelspec": {
   "display_name": "Python 3 (ipykernel)",
   "language": "python",
   "name": "python3"
  },
  "language_info": {
   "codemirror_mode": {
    "name": "ipython",
    "version": 3
   },
   "file_extension": ".py",
   "mimetype": "text/x-python",
   "name": "python",
   "nbconvert_exporter": "python",
   "pygments_lexer": "ipython3",
   "version": "3.9.12"
  },
  "varInspector": {
   "cols": {
    "lenName": 16,
    "lenType": 16,
    "lenVar": 40
   },
   "kernels_config": {
    "python": {
     "delete_cmd_postfix": "",
     "delete_cmd_prefix": "del ",
     "library": "var_list.py",
     "varRefreshCmd": "print(var_dic_list())"
    },
    "r": {
     "delete_cmd_postfix": ") ",
     "delete_cmd_prefix": "rm(",
     "library": "var_list.r",
     "varRefreshCmd": "cat(var_dic_list()) "
    }
   },
   "types_to_exclude": [
    "module",
    "function",
    "builtin_function_or_method",
    "instance",
    "_Feature"
   ],
   "window_display": false
  }
 },
 "nbformat": 4,
 "nbformat_minor": 5
}
